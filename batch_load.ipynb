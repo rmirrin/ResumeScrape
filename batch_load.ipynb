{
 "cells": [
  {
   "cell_type": "code",
   "execution_count": null,
   "metadata": {},
   "outputs": [],
   "source": [
    "import pandas as pd\n",
    "import numpy as np\n",
    "#Determining the number of words in the document \n",
    "from string import punctuation \n",
    "from collections import Counter\n",
    "import nltk\n",
    "import re\n",
    "from pdfminer.high_level import extract_text\n",
    "import PyPDF2\n",
    "import textract\n",
    "import re\n",
    "import string\n",
    "import pandas as pd\n",
    "import matplotlib.pyplot as plt\n",
    "import dataframe_image as dfi"
   ]
  },
  {
   "cell_type": "code",
   "execution_count": null,
   "metadata": {},
   "outputs": [],
   "source": [
    "terms = {'Responsibilities':['Develop', 'custom', 'online', 'marketing', 'strategies', 'clients', 'drive', 'new', 'leads', 'multiple', 'channels', \n",
    "                                'clients','basis', 'email,', 'video', 'conferencing', 'clients', 'marketing', 'budgets', \n",
    "                                'Develop','manage','detailed', 'project', 'schedule','plan', 'monthly', 'reports', \n",
    "                                'strategy,', 'adjustments,',\n",
    "                                'identify', 'areas', 'improvement.', 'Maintain',\n",
    "                                'value', 'company', 'culture', 'strive', 'grow', 'self-sufficient','managing', 'clients','learn', 'strive', 'grow', 'self-sufficient', 'managing', 'clients.'],      \n",
    "        'Qualifications and Skills':['SEO','project','management','WordPress','CMS','platform,','HTML',\n",
    "                                'track','record','successfully','managing','SEO','campaigns','increase','organic','traffic','leads','clients','websites',\n",
    "                                'predefined','budget','SEO','campaigns','Google','Analytics','Search','',\n",
    "                                'changes','explaining','impacts','campaign','end','client.',\n",
    "                                'search','marketing','campaigns','development,','ads','managers','client','effectively','communicate','campaign','progress','initiatives','track','Deep',\n",
    "                                'understanding','SEO','tactics,','on-site','offsite,','technical,','industry','best','practices,','current','past','industry','trends,','black','hat','tactics','avoid','Solid',\n",
    "                                'understanding','experience','keyword','research','effectively','direct','content','development','efforts','adjust','existing','content,','URL,','title,','metas','explain',\n",
    "                                'justify','efforts','client.','write','effective','titles,','headings,','meta','descriptions,','adjustments','content','onsite',\n",
    "                                'keyword','usage,','flow','calls','action.','Solid','grammar,','spelling','vocabulary','Self-motivated,','self-starter','with','the','ability','to','figure','things','out','&','research','solutions',\n",
    "                                'third-party','tools','','Screaming','Frog,','Bright','Local,','campaign','analysis','technical','site,','content',\n",
    "                                'competitor','audits','findings','effective','client','communication','skills,','ability','upsell','products','services',\n",
    "                                'verbal','written','communication','reporting','campaigns','link','acquisition','strategies','recognize',\n",
    "                                'potentially','harmful,','ineffective','links','acquisition','strategies.'],\n",
    "        'Personality':['team','exciting','determined','energy''confiedence','respect','emppathy','constructive','feedback','friendly','teamowrk','delegate','collaboration','cooperation',\n",
    "                                'learn','collaboration','curious','open-mind','self-motivated','adaptable','logical','creative','responsible','dependable','time-management','goals'],\n",
    "        'Project management: Top(10)':['client','customer','communincation','marketing','strategy','report','budget','project','pmp','monitor'],\n",
    "        'HRIS Skills:Top(10)':['SEO','campagin','website','optimize','webpage','content','traffic','keyword','google', 'analytic']}\n",
    "        "
   ]
  },
  {
   "cell_type": "code",
   "execution_count": 127,
   "metadata": {},
   "outputs": [],
   "source": [
    "def preprocess_text(x):\n",
    "    word_doc = x.translate(punctuation).lower().split() \n",
    "    return word_doc"
   ]
  },
  {
   "cell_type": "code",
   "execution_count": null,
   "metadata": {},
   "outputs": [],
   "source": [
    "def grab_name(x):\n",
    "    resname = x[:2]\n",
    "    res_name = '.'.join(str(x) for x in resname)\n",
    "\n",
    "    # replace the characters with spaces\n",
    "    res_name = re.sub(r'[^a-zA-z0-9\\s]',' ',res_name)\n",
    "    # res_name = res_name + '.png' # file extension\n",
    "    return res_name"
   ]
  },
  {
   "cell_type": "code",
   "execution_count": null,
   "metadata": {},
   "outputs": [],
   "source": [
    "def calculate_scores(x):\n",
    "\n",
    "    # Initializie score counters for each area\n",
    "    quality = 0\n",
    "    job_description_kw = 0\n",
    "    personality = 0\n",
    "    project = 0\n",
    "    sales_skills = 0\n",
    "\n",
    "    # Create an empty list where the scores will be stored\n",
    "    total = []\n",
    "\n",
    "    # Obtain the scores for each area\n",
    "    for area in terms.keys():\n",
    "            \n",
    "        if area == 'HRIS Skills: Top(10)':\n",
    "            for word in terms[area]:\n",
    "                if word in x:\n",
    "                    quality +=1\n",
    "            total.append(quality)\n",
    "            \n",
    "        elif area == 'Qualifications and Skills':\n",
    "            for word in terms[area]:\n",
    "                if word in x:\n",
    "                    job_description_kw +=1\n",
    "            total.append(job_description_kw)\n",
    "            \n",
    "        elif area == 'Personality':\n",
    "            for word in terms[area]:\n",
    "                if word in x:\n",
    "                    personality +=1\n",
    "            total.append(personality)\n",
    "            \n",
    "        elif area == 'Project management: Top(10)':\n",
    "            for word in terms[area]:\n",
    "                if word in x:\n",
    "                    project +=1\n",
    "            total.append(project)\n",
    "            \n",
    "        else:\n",
    "            if area == 'Responsibilities':\n",
    "                for word in terms[area]: \n",
    "                    if word in x:\n",
    "                        sales_skills +=1\n",
    "            total.append(sales_skills)\n",
    "\n",
    "\n",
    "    return total\n",
    "\n",
    "# refactor this code to output a dictionary of results"
   ]
  },
  {
   "cell_type": "code",
   "execution_count": null,
   "metadata": {},
   "outputs": [],
   "source": [
    "def create_result_df(total, res_name):\n",
    "    # Create a data frame with the scores summary\n",
    "    candidate_rank1 = pd.DataFrame(total,index=terms.keys(),columns=['total']).sort_values(by='total',ascending=False)\n",
    "    candidate_rank1['Name'] = res_name\n",
    "    return candidate_rank1"
   ]
  },
  {
   "cell_type": "code",
   "execution_count": null,
   "metadata": {},
   "outputs": [],
   "source": [
    "# Load all PDFs in one folder and put into a list\n",
    "\n",
    "from glob import glob\n",
    "\n",
    "resume_lst = []\n",
    "\n",
    "for resume in glob('/Users/rupertmarin/Desktop/Marketing/*.pdf'):\n",
    "    resume_lst.append(resume)"
   ]
  },
  {
   "cell_type": "code",
   "execution_count": null,
   "metadata": {},
   "outputs": [],
   "source": [
    "df_lst = []\n",
    "\n",
    "for resume in resume_lst:\n",
    "\n",
    "    x = extract_text(resume)\n",
    "    x = preproces_text(x)\n",
    "    res_name = grab_name(x)\n",
    "    total = calculate_scores(x)\n",
    "    df_result = create_result_df(total, res_name)\n",
    "    df_lst.append(df_result)"
   ]
  },
  {
   "cell_type": "code",
   "execution_count": null,
   "metadata": {},
   "outputs": [],
   "source": [
    "final = pd.concat(df_lst)"
   ]
  },
  {
   "cell_type": "code",
   "execution_count": null,
   "metadata": {},
   "outputs": [],
   "source": [
    "final.reset_index().groupby(['Name', 'index']).first()\n",
    "\n",
    "# df to csv\n",
    "final.to_csv('2Req1256Candidates.csv')"
   ]
  }
 ],
 "metadata": {
  "interpreter": {
   "hash": "3d597f4c481aa0f25dceb95d2a0067e73c0966dcbd003d741d821a7208527ecf"
  },
  "kernelspec": {
   "display_name": "Python 3.9.5 ('base')",
   "language": "python",
   "name": "python3"
  },
  "language_info": {
   "codemirror_mode": {
    "name": "ipython",
    "version": 3
   },
   "file_extension": ".py",
   "mimetype": "text/x-python",
   "name": "python",
   "nbconvert_exporter": "python",
   "pygments_lexer": "ipython3",
   "version": "3.9.5"
  },
  "orig_nbformat": 4
 },
 "nbformat": 4,
 "nbformat_minor": 2
}
